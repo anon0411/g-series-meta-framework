{
 "cells": [
  {
   "cell_type": "code",
   "execution_count": null,
   "id": "4d0c996a",
   "metadata": {
    "vscode": {
     "languageId": "plaintext"
    }
   },
   "outputs": [],
   "source": [
    "#관측이 구조 유지에 기여하는가\n",
    "\n",
    "\n",
    "%matplotlib inline\n",
    "from qiskit import QuantumCircuit, Aer, transpile\n",
    "from qiskit.visualization import plot_histogram\n",
    "import matplotlib.pyplot as plt\n",
    "\n",
    "\n",
    "\n",
    "# 설정\n",
    "shots = 1024\n",
    "backend = Aer.get_backend('aer_simulator')\n",
    "\n",
    "# 실험 회로 생성 함수\n",
    "def make_circuit(measure: bool):\n",
    "    qc = QuantumCircuit(2, 2 if measure else 0)\n",
    "    qc.h(0)\n",
    "    qc.cx(0, 1)\n",
    "\n",
    "    if measure:\n",
    "        qc.measure([0, 1], [0, 1])\n",
    "    else:\n",
    "        qc.save_statevector()  # 상태벡터 저장\n",
    "\n",
    "    return qc\n",
    "\n",
    "# 회로 생성\n",
    "qc_with_measure = make_circuit(measure=True)\n",
    "qc_without_measure = make_circuit(measure=False)\n",
    "\n",
    "# 트랜스파일\n",
    "qc_with_measure = transpile(qc_with_measure, backend)\n",
    "qc_without_measure = transpile(qc_without_measure, backend)\n",
    "\n",
    "# 실행 (Qobj 없이 circuits 직접 전달)\n",
    "result_with = backend.run(qc_with_measure, shots=shots).result()\n",
    "result_without = backend.run(qc_without_measure).result()\n",
    "\n",
    "# 결과\n",
    "counts_with = result_with.get_counts()\n",
    "statevector_without = result_without.get_statevector()\n",
    "\n",
    "# 출력\n",
    "print(\"🔍 [측정 있음] 회로 결과 (히스토그램):\")\n",
    "plot_histogram(counts_with)\n",
    "plt.show()\n",
    "\n",
    "print(\"\\n🧪 [측정 없음] 회로 상태벡터:\")\n",
    "print(statevector_without)\n",
    "\n"
   ]
  }
 ],
 "metadata": {
  "language_info": {
   "name": "python"
  }
 },
 "nbformat": 4,
 "nbformat_minor": 5
}
