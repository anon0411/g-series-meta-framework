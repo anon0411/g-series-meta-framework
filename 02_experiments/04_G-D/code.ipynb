{
 "cells": [
  {
   "cell_type": "code",
   "execution_count": null,
   "id": "5766aa36",
   "metadata": {
    "vscode": {
     "languageId": "plaintext"
    }
   },
   "outputs": [],
   "source": [
    "from qiskit import QuantumCircuit, QuantumRegister, ClassicalRegister\n",
    "from qiskit_aer import Aer\n",
    "from collections import Counter\n",
    "import matplotlib.pyplot as plt\n",
    "\n",
    "# 시뮬레이터 설정\n",
    "simulator = Aer.get_backend('aer_simulator')\n",
    "\n",
    "# 반복 횟수\n",
    "n_trials = 10\n",
    "shots = 1024\n",
    "\n",
    "# 결과 저장\n",
    "pairs = []\n",
    "\n",
    "# 회로 실행 반복\n",
    "for i in range(n_trials):\n",
    "    # 1차 회로 (구조 생성)\n",
    "    qr1 = QuantumRegister(2)\n",
    "    cr1 = ClassicalRegister(2)\n",
    "    circ1 = QuantumCircuit(qr1, cr1)\n",
    "    circ1.h(0)\n",
    "    circ1.cx(0, 1)\n",
    "    circ1.measure([0, 1], [0, 1])\n",
    "\n",
    "    result1 = simulator.run(circ1, shots=shots).result()\n",
    "    counts1 = result1.get_counts()\n",
    "    result1_major = max(counts1, key=counts1.get)\n",
    "\n",
    "    # 2차 회로 (자기 반복 여부 관측)\n",
    "    qr2 = QuantumRegister(2)\n",
    "    cr2 = ClassicalRegister(2)\n",
    "    circ2 = QuantumCircuit(qr2, cr2)\n",
    "    circ2.h(0)\n",
    "    circ2.cx(0, 1)\n",
    "    circ2.measure([0, 1], [0, 1])\n",
    "\n",
    "    result2 = simulator.run(circ2, shots=shots).result()\n",
    "    counts2 = result2.get_counts()\n",
    "    result2_major = max(counts2, key=counts2.get)\n",
    "\n",
    "    # 결과 쌍 저장\n",
    "    pairs.append((result1_major, result2_major))\n",
    "    print(f\"Trial {i+1}: {result1_major} → {result2_major}\")\n",
    "\n",
    "# 통계 분석\n",
    "match_count = sum([1 for a, b in pairs if a == b])\n",
    "print(f\"\\n🧮 동일한 결과 반복된 횟수: {match_count} / {n_trials}\")\n",
    "\n",
    "# 시각화\n",
    "labels = [f\"{a}→{b}\" for a, b in pairs]\n",
    "counts = Counter(labels)\n",
    "\n",
    "plt.figure(figsize=(10, 4))\n",
    "plt.bar(counts.keys(), counts.values())\n",
    "plt.title(\"G-D 구조 자기 반복 결과 쌍\")\n",
    "plt.xlabel(\"1차 결과 → 2차 결과\")\n",
    "plt.ylabel(\"빈도 (횟수)\")\n",
    "plt.xticks(rotation=45)\n",
    "plt.tight_layout()\n",
    "plt.show()\n",
    "\n"
   ]
  },
  {
   "cell_type": "code",
   "execution_count": null,
   "id": "4ae42349",
   "metadata": {
    "vscode": {
     "languageId": "plaintext"
    }
   },
   "outputs": [],
   "source": [
    "#result :\n",
    "#Trial 1: 11 → 00\n",
    "#Trial 2: 00 → 11\n",
    "#Trial 3: 11 → 00\n",
    "#Trial 4: 00 → 11\n",
    "#Trial 5: 11 → 11\n",
    "#Trial 6: 00 → 00\n",
    "#Trial 7: 00 → 00\n",
    "#Trial 8: 11 → 00\n",
    "#Trial 9: 11 → 00\n",
    "#Trial 10: 11 → 00\n",
    "\n",
    "#🧮 동일한 결과 반복된 횟수: 3 / 10"
   ]
  }
 ],
 "metadata": {
  "language_info": {
   "name": "python"
  }
 },
 "nbformat": 4,
 "nbformat_minor": 5
}
