{
 "cells": [
  {
   "cell_type": "code",
   "execution_count": null,
   "id": "6e54f0ca",
   "metadata": {
    "vscode": {
     "languageId": "plaintext"
    }
   },
   "outputs": [],
   "source": [
    "from qiskit import QuantumCircuit, transpile, assemble\n",
    "from qiskit_aer import Aer\n",
    "import pickle  # 결과를 파일로 저장할 수 있음\n",
    "\n",
    "# 회로 생성 함수\n",
    "def create_base_circuit():\n",
    "    qc = QuantumCircuit(2, 2)\n",
    "    qc.h(0)\n",
    "    qc.cx(0, 1)\n",
    "    qc.measure([0, 1], [0, 1])\n",
    "    return qc\n",
    "\n",
    "# 관측자 미개입 조건: 결과 기록은 하지만 즉시 시각화/출력하지 않음\n",
    "def run_unobserved_experiment(shots=100):\n",
    "    backend = Aer.get_backend('aer_simulator')\n",
    "    all_results = []\n",
    "    for i in range(10):\n",
    "        qc = create_base_circuit()\n",
    "        tqc = transpile(qc, backend)\n",
    "        qobj = assemble(tqc, shots=shots)\n",
    "        result = backend.run(qobj).result()\n",
    "        counts = result.get_counts()\n",
    "        all_results.append(counts)\n",
    "    \n",
    "    return all_results\n",
    "\n",
    "# 실행\n",
    "unobserved_results = run_unobserved_experiment()\n",
    "\n",
    "# (선택) 파일로 저장하고 나중에 불러보기 위한 코드\n",
    "with open(\"gdp_unobserved_results.pkl\", \"wb\") as f:\n",
    "    pickle.dump(unobserved_results, f)\n",
    "\n",
    "print(\"관측자 미개입 조건 회로 실행 완료. 결과는 저장되었지만 시각화되지 않았습니다.\")\n",
    "\n",
    "\n",
    "\n",
    "#시각화\n",
    "\n",
    "import pickle\n",
    "from qiskit.visualization import plot_histogram\n",
    "import matplotlib.pyplot as plt\n",
    "\n",
    "# 저장된 결과 불러오기\n",
    "with open(\"gdp_unobserved_results.pkl\", \"rb\") as f:\n",
    "    unobserved_results = pickle.load(f)\n",
    "\n",
    "# 결과 집계\n",
    "aggregate_counts = {}\n",
    "for res in unobserved_results:\n",
    "    for key, val in res.items():\n",
    "        aggregate_counts[key] = aggregate_counts.get(key, 0) + val\n",
    "\n",
    "# 히스토그램 시각화\n",
    "fig = plt.figure(figsize=(6, 4))\n",
    "ax = fig.add_subplot(1, 1, 1)\n",
    "plot_histogram(aggregate_counts, ax=ax)\n",
    "ax.set_title(\"G-D': 관측자 미개입 (Without Observer)\")\n",
    "plt.tight_layout()\n",
    "plt.show()\n",
    "\n"
   ]
  }
 ],
 "metadata": {
  "language_info": {
   "name": "python"
  }
 },
 "nbformat": 4,
 "nbformat_minor": 5
}
