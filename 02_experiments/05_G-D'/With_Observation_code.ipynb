{
 "cells": [
  {
   "cell_type": "code",
   "execution_count": null,
   "id": "cdcfd60a",
   "metadata": {
    "vscode": {
     "languageId": "plaintext"
    }
   },
   "outputs": [],
   "source": [
    "# [조건 A] 관측자 개입 있음 (With Observation)\n",
    "\n",
    "from qiskit import QuantumCircuit, transpile, assemble\n",
    "from qiskit_aer import Aer\n",
    "from qiskit.visualization import plot_histogram\n",
    "import matplotlib.pyplot as plt\n",
    "import random\n",
    "from qiskit.visualization import plot_histogram\n",
    "import matplotlib.pyplot as plt\n",
    "\n",
    "# 공통 회로 생성 함수\n",
    "def create_base_circuit():\n",
    "    qc = QuantumCircuit(2, 2)\n",
    "    qc.h(0)\n",
    "    qc.cx(0, 1)\n",
    "    qc.measure([0, 1], [0, 1])\n",
    "    return qc\n",
    "\n",
    "# 실험 실행 함수\n",
    "def run_experiment(shots=100, observe=True):\n",
    "    backend = Aer.get_backend('aer_simulator')\n",
    "    all_results = []\n",
    "    for i in range(10):  # 동일 회로 10회 반복 실행\n",
    "        qc = create_base_circuit()\n",
    "        tqc = transpile(qc, backend)\n",
    "        qobj = assemble(tqc, shots=shots)\n",
    "        result = backend.run(qobj).result()\n",
    "        counts = result.get_counts()\n",
    "        \n",
    "        if observe:\n",
    "            # 관측자 개입: 결과 저장\n",
    "            all_results.append(counts)\n",
    "        else:\n",
    "            # 관측자 미개입: 결과 폐기 (의미 없이 discard)\n",
    "            _ = counts\n",
    "\n",
    "    return all_results\n",
    "\n",
    "# 관측자 개입 실험 실행\n",
    "observed_results = run_experiment(observe=True)\n",
    "\n",
    "# 결과 집계\n",
    "aggregate_counts = {}\n",
    "for res in observed_results:\n",
    "    for key, val in res.items():\n",
    "        aggregate_counts[key] = aggregate_counts.get(key, 0) + val\n",
    "\n",
    "print(\"집계된 관측자 개입 결과:\", aggregate_counts)\n",
    "\n",
    "# 히스토그램 시각화\n",
    "# aggregate_counts는 이미 수집된 결과라고 가정\n",
    "fig = plt.figure(figsize=(6, 4))\n",
    "ax = fig.add_subplot(1, 1, 1)\n",
    "plot_histogram(aggregate_counts, ax=ax)\n",
    "ax.set_title(\"G-D': 관측자 개입 있음 (With Observer)\")\n",
    "plt.tight_layout()\n",
    "plt.show()\n"
   ]
  }
 ],
 "metadata": {
  "language_info": {
   "name": "python"
  }
 },
 "nbformat": 4,
 "nbformat_minor": 5
}
