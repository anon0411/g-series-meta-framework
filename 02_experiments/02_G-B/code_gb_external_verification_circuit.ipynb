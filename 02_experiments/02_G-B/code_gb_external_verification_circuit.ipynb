{
 "cells": [
  {
   "cell_type": "code",
   "execution_count": null,
   "id": "aedd6055",
   "metadata": {
    "vscode": {
     "languageId": "plaintext"
    }
   },
   "outputs": [],
   "source": [
    "#검증용 회로 코드\n",
    "\n",
    "from qiskit import QuantumCircuit\n",
    "from qiskit_aer import Aer\n",
    "from qiskit.visualization import plot_histogram\n",
    "import matplotlib.pyplot as plt\n",
    "\n",
    "# 회로 정의\n",
    "qc = QuantumCircuit(2, 2)\n",
    "qc.h(0)\n",
    "qc.cx(0, 1)\n",
    "qc.measure([0, 1], [0, 1])\n",
    "\n",
    "# 시뮬레이터\n",
    "sim = Aer.get_backend('aer_simulator')\n",
    "\n",
    "print(\"Running verification circuit...\")\n",
    "result = sim.run(qc, shots=1024).result()\n",
    "counts = result.get_counts()\n",
    "print(\"Execution complete.\")\n",
    "print(\"Counts:\", counts)\n",
    "\n",
    "# 시각화\n",
    "plot_histogram(counts, title=\"G-B 검증용 회로 결과\")\n",
    "plt.show()\n",
    "\n"
   ]
  },
  {
   "cell_type": "code",
   "execution_count": null,
   "id": "03aa4f28",
   "metadata": {
    "vscode": {
     "languageId": "plaintext"
    }
   },
   "outputs": [],
   "source": [
    "\n",
    "# result :\n",
    "# Running verification circuit...\n",
    "# Execution complete.\n",
    "# Counts: {'11': 505, '00': 519}"
   ]
  }
 ],
 "metadata": {
  "language_info": {
   "name": "python"
  }
 },
 "nbformat": 4,
 "nbformat_minor": 5
}
