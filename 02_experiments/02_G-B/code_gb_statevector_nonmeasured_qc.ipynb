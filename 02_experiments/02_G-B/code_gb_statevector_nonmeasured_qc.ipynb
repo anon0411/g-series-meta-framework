{
 "cells": [
  {
   "cell_type": "code",
   "execution_count": null,
   "id": "e3d8d418",
   "metadata": {
    "vscode": {
     "languageId": "plaintext"
    }
   },
   "outputs": [],
   "source": [
    "#자기 선택(Self-selection): 구조가 외부로부터 주입되지 않고, 회로가 자신의 내부에서 선택을 수행함\n",
    "#관측 없음(No measurement): 관측으로 인한 상태 붕괴 없이, 구조의 선택 가능성만 실험\n",
    "#구조 유지력(Structural persistence): 구조가 일회성 반응이 아닌 지속성을 가짐from qiskit import QuantumCircuit\n",
    "#목적: 구조 형성 자체에 대한 비관측적 실험\n",
    "\n",
    "from qiskit_aer import Aer\n",
    "from qiskit.visualization import plot_state_city\n",
    "import matplotlib.pyplot as plt\n",
    "\n",
    "# 회로 정의\n",
    "qc = QuantumCircuit(2)\n",
    "qc.h(0)           # 자기 선택\n",
    "qc.cx(0, 1)       # 구조 유지\n",
    "qc.save_statevector()  # 측정 없이 상태 저장\n",
    "\n",
    "# 시뮬레이터 실행\n",
    "sim = Aer.get_backend('aer_simulator')\n",
    "result = sim.run(qc).result()\n",
    "sv = result.get_statevector()\n",
    "\n",
    "# 출력 및 시각화\n",
    "print(\"Statevector:\", sv)\n",
    "plot_state_city(sv, title=\"G-B 실험: 상태벡터 시각화\")\n",
    "plt.show()\n",
    "\n",
    "\n"
   ]
  },
  {
   "cell_type": "code",
   "execution_count": null,
   "id": "c9f65202",
   "metadata": {
    "vscode": {
     "languageId": "plaintext"
    }
   },
   "outputs": [],
   "source": [
    "# result :\n",
    "# Statevector: Statevector([0.70710678+0.j, 0.        +0.j, 0.        +0.j,\n",
    "#              0.70710678+0.j],\n",
    "#              dims=(2, 2))"
   ]
  }
 ],
 "metadata": {
  "language_info": {
   "name": "python"
  }
 },
 "nbformat": 4,
 "nbformat_minor": 5
}
