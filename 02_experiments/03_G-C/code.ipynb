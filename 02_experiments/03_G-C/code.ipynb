{
 "cells": [
  {
   "cell_type": "code",
   "execution_count": null,
   "id": "3f582c8b",
   "metadata": {
    "vscode": {
     "languageId": "plaintext"
    }
   },
   "outputs": [],
   "source": [
    "# \"관측이 구조를 만든다\"는 주장을 넘어서, 한 번 생성된 구조가 이후에도 스스로를 유지할 수 있는가를 검증합니다.\n",
    "# 즉, 한 번 선택된 구조적 경로가 다음 회로에도 영향을 끼치는지를 실험을 통해 확인합니다.\n",
    "\n",
    "import matplotlib.pyplot as plt\n",
    "import matplotlib as mpl\n",
    "\n",
    "# 맥OS에서 사용할 수 있는 대표 한글 폰트\n",
    "plt.rcParams['font.family'] = 'AppleGothic'\n",
    "\n",
    "# 마이너스 깨짐 방지\n",
    "mpl.rcParams['axes.unicode_minus'] = False\n",
    "\n",
    "\n",
    "from qiskit import QuantumCircuit, QuantumRegister, ClassicalRegister\n",
    "from qiskit_aer import Aer\n",
    "import matplotlib.pyplot as plt\n",
    "\n",
    "# 시뮬레이터 로딩\n",
    "simulator = Aer.get_backend('aer_simulator')\n",
    "\n",
    "# 1차 회로\n",
    "qr1 = QuantumRegister(2, 'q')\n",
    "cr1 = ClassicalRegister(2, 'c')\n",
    "circuit1 = QuantumCircuit(qr1, cr1)\n",
    "circuit1.h(qr1[0])\n",
    "circuit1.cx(qr1[0], qr1[1])\n",
    "circuit1.measure(qr1, cr1)\n",
    "\n",
    "# 2차 회로\n",
    "qr2 = QuantumRegister(2, 'q')\n",
    "cr2 = ClassicalRegister(2, 'c')\n",
    "circuit2 = QuantumCircuit(qr2, cr2)\n",
    "circuit2.h(qr2[0])\n",
    "circuit2.cx(qr2[0], qr2[1])\n",
    "circuit2.measure(qr2, cr2)\n",
    "\n",
    "# 실행 (각각 5000회)\n",
    "job1 = simulator.run(circuit1, shots=5000, seed_simulator=42)\n",
    "job2 = simulator.run(circuit2, shots=5000, seed_simulator=99)\n",
    "\n",
    "# 결과 획득\n",
    "result1 = job1.result()\n",
    "result2 = job2.result()\n",
    "\n",
    "counts1 = result1.get_counts()\n",
    "counts2 = result2.get_counts()\n",
    "\n",
    "# 결과 출력\n",
    "print(\"🔍 1차 회로 (구조 생성) 결과:\", counts1)\n",
    "print(\"🔍 2차 회로 (구조 유지력) 결과:\", counts2)\n",
    "\n",
    "# 시각화\n",
    "fig, axs = plt.subplots(1, 2, figsize=(12, 4))\n",
    "axs[0].bar(counts1.keys(), counts1.values())\n",
    "axs[0].set_title('1차 회로 (구조 생성)')\n",
    "axs[0].set_xlabel('측정 결과')\n",
    "axs[0].set_ylabel('Counts')\n",
    "\n",
    "axs[1].bar(counts2.keys(), counts2.values())\n",
    "axs[1].set_title('2차 회로 (구조 유지력)')\n",
    "axs[1].set_xlabel('측정 결과')\n",
    "axs[1].set_ylabel('Counts')\n",
    "\n",
    "plt.tight_layout()\n",
    "plt.show()\n"
   ]
  }
 ],
 "metadata": {
  "language_info": {
   "name": "python"
  }
 },
 "nbformat": 4,
 "nbformat_minor": 5
}
