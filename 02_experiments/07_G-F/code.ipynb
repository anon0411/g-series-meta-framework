{
 "cells": [
  {
   "cell_type": "code",
   "execution_count": null,
   "id": "1c6babdc",
   "metadata": {
    "vscode": {
     "languageId": "plaintext"
    }
   },
   "outputs": [],
   "source": [
    "%matplotlib inline\n",
    "\n",
    "from qiskit import QuantumCircuit, QuantumRegister, ClassicalRegister\n",
    "from qiskit_aer import AerSimulator\n",
    "from qiskit.visualization import plot_histogram\n",
    "import matplotlib.pyplot as plt\n",
    "import random\n",
    "\n",
    "simulator = AerSimulator()\n",
    "\n",
    "def make_branch_circuit(branch_type: str) -> QuantumCircuit:\n",
    "    \"\"\"\n",
    "    branch_type: 'Z' or 'X' — 기능 분기 형태를 수동 지정\n",
    "    \"\"\"\n",
    "    qr = QuantumRegister(2)\n",
    "    cr = ClassicalRegister(2)\n",
    "    qc = QuantumCircuit(qr, cr)\n",
    "\n",
    "    qc.h(0)\n",
    "    qc.cx(0, 1)\n",
    "\n",
    "    if branch_type == 'Z':\n",
    "        qc.z(1)\n",
    "    elif branch_type == 'X':\n",
    "        qc.x(1)\n",
    "\n",
    "    qc.measure([0, 1], [0, 1])\n",
    "    return qc\n",
    "\n",
    "# 실험 회로: 관측 후 조건에 따라 분기하는 대신, 분기를 나눠 실행\n",
    "circuit_exp_z = make_branch_circuit('Z')  # 구조 선택이 Z였다고 가정\n",
    "circuit_exp_x = make_branch_circuit('X')  # 구조 선택이 X였다고 가정\n",
    "\n",
    "# 대조 회로: 구조 없이 랜덤 선택\n",
    "circuit_ctrl_z = make_branch_circuit('Z')\n",
    "circuit_ctrl_x = make_branch_circuit('X')\n",
    "\n",
    "# 실행\n",
    "job_exp_z = simulator.run(circuit_exp_z, shots=1024)\n",
    "job_exp_x = simulator.run(circuit_exp_x, shots=1024)\n",
    "job_ctrl_z = simulator.run(circuit_ctrl_z, shots=1024)\n",
    "job_ctrl_x = simulator.run(circuit_ctrl_x, shots=1024)\n",
    "\n",
    "# 결과\n",
    "result_exp_z = job_exp_z.result().get_counts()\n",
    "result_exp_x = job_exp_x.result().get_counts()\n",
    "result_ctrl_z = job_ctrl_z.result().get_counts()\n",
    "result_ctrl_x = job_ctrl_x.result().get_counts()\n",
    "\n",
    "# 시각화\n",
    "plot_histogram(\n",
    "    [result_exp_z, result_exp_x],\n",
    "    legend=['Experimental-Z', 'Experimental-X']\n",
    ")\n",
    "plt.title(\"G-F Experimental: Functional Branches\")\n",
    "plt.show()\n",
    "\n",
    "plot_histogram(\n",
    "    [result_ctrl_z, result_ctrl_x],\n",
    "    legend=['Control-Z', 'Control-X']\n",
    ")\n",
    "plt.title(\"G-F Control: Random Functional Branches\")\n",
    "plt.show()\n"
   ]
  }
 ],
 "metadata": {
  "language_info": {
   "name": "python"
  }
 },
 "nbformat": 4,
 "nbformat_minor": 5
}
