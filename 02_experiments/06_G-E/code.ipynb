{
 "cells": [
  {
   "cell_type": "code",
   "execution_count": null,
   "id": "e7439e5a",
   "metadata": {
    "vscode": {
     "languageId": "plaintext"
    }
   },
   "outputs": [],
   "source": [
    "from qiskit import QuantumCircuit, transpile\n",
    "from qiskit_aer import AerSimulator\n",
    "from qiskit.visualization import plot_histogram\n",
    "\n",
    "qc = QuantumCircuit(3, 2)\n",
    "\n",
    "# 분기 조건 초기화: q[0]을 superposition으로 하여 확률적으로 선택\n",
    "qc.h(0)\n",
    "\n",
    "# 구조 A: q[0]이 |0>일 때만 실행\n",
    "qc.x(0)\n",
    "qc.cx(0, 1)\n",
    "qc.x(0)\n",
    "\n",
    "# 구조 B: q[0]이 |1>일 때만 실행\n",
    "qc.cx(0, 2)\n",
    "\n",
    "# 측정: 구조 A 결과는 q[1], 구조 B는 q[2]\n",
    "qc.measure(1, 0)\n",
    "qc.measure(2, 1)\n",
    "\n",
    "# 시뮬레이터 실행\n",
    "simulator = AerSimulator()\n",
    "compiled = transpile(qc, simulator)\n",
    "result = simulator.run(compiled, shots=1024).result()\n",
    "counts = result.get_counts()\n",
    "\n",
    "# 출력\n",
    "print(counts)\n",
    "plot_histogram(counts)\n"
   ]
  }
 ],
 "metadata": {
  "language_info": {
   "name": "python"
  }
 },
 "nbformat": 4,
 "nbformat_minor": 5
}
