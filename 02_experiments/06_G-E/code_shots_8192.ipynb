{
 "cells": [
  {
   "cell_type": "code",
   "execution_count": null,
   "id": "ed4a965e",
   "metadata": {
    "vscode": {
     "languageId": "plaintext"
    }
   },
   "outputs": [],
   "source": [
    "from qiskit import QuantumCircuit, transpile\n",
    "from qiskit_aer import AerSimulator\n",
    "from qiskit.visualization import plot_histogram\n",
    "\n",
    "# 회로 구성\n",
    "qc = QuantumCircuit(3, 2)\n",
    "qc.h(0)\n",
    "qc.x(0)\n",
    "qc.cx(0, 1)\n",
    "qc.x(0)\n",
    "qc.cx(0, 2)\n",
    "qc.measure(1, 0)\n",
    "qc.measure(2, 1)\n",
    "\n",
    "# 시뮬레이터 실행 (8192 shots)\n",
    "simulator = AerSimulator()\n",
    "compiled = transpile(qc, simulator)\n",
    "result = simulator.run(compiled, shots=8192).result()\n",
    "counts = result.get_counts()\n",
    "\n",
    "# 결과 출력\n",
    "print(counts)\n",
    "plot_histogram(counts)\n"
   ]
  }
 ],
 "metadata": {
  "language_info": {
   "name": "python"
  }
 },
 "nbformat": 4,
 "nbformat_minor": 5
}
